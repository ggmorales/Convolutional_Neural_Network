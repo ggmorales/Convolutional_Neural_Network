{
  "nbformat": 4,
  "nbformat_minor": 0,
  "metadata": {
    "colab": {
      "provenance": []
    },
    "kernelspec": {
      "name": "python3",
      "display_name": "Python 3"
    },
    "language_info": {
      "name": "python"
    }
  },
  "cells": [
    {
      "cell_type": "markdown",
      "source": [
        "#1. Importar librerías"
      ],
      "metadata": {
        "id": "8FveXC3LMZcH"
      }
    },
    {
      "cell_type": "code",
      "source": [
        "import numpy as np\n",
        "import matplotlib.pyplot as plt\n",
        "from sklearn.model_selection import train_test_split\n",
        "from sklearn.metrics import f1_score, classification_report\n",
        "import tensorflow as tf\n",
        "from tensorflow.keras.models import Sequential\n",
        "from tensorflow.keras.layers import Dense, Conv2D, MaxPooling2D, Flatten\n",
        "from tensorflow.keras.utils import to_categorical\n",
        "from sklearn.datasets import fetch_openml"
      ],
      "metadata": {
        "id": "w0h1SEa9Mm5H"
      },
      "execution_count": 2,
      "outputs": []
    },
    {
      "cell_type": "markdown",
      "source": [
        "#2. Cargar y visualizar el conjunto de datos"
      ],
      "metadata": {
        "id": "GnsCcvyXMwXG"
      }
    },
    {
      "cell_type": "code",
      "source": [
        "# Cargar el conjunto de datos MNIST de la plataforma OpenML\n",
        "mnist = fetch_openml('mnist_784', as_frame=False, parser='auto')\n",
        "\n",
        "# Establecer el lienzo en el que se dibujarán las imágenes.\n",
        "plt.figure(figsize=(20, 4))\n",
        "\n",
        "# Visualización de las primeras 8 imágenes del conjunto de datos MNIST\n",
        "for index, digit in zip(range(1, 9), mnist.data[:8]):\n",
        "    plt.subplot(1, 8, index)\n",
        "    plt.imshow(np.reshape(digit, (28,28)), cmap=plt.cm.gray)\n",
        "    plt.title('Ejemplo: ' + str(index))\n",
        "plt.show()"
      ],
      "metadata": {
        "colab": {
          "base_uri": "https://localhost:8080/",
          "height": 184
        },
        "id": "IUcb4i_xNG_k",
        "outputId": "3271a5c2-eaf3-40ba-ebf2-f356a6ef3404"
      },
      "execution_count": 3,
      "outputs": [
        {
          "output_type": "display_data",
          "data": {
            "text/plain": [
              "<Figure size 2000x400 with 8 Axes>"
            ],
            "image/png": "[encoded data removed]"
          },
          "metadata": {}
        }
      ]
    },
    {
      "cell_type": "markdown",
      "source": [
        "Como se puede observar, estamos ante un conjunto de imagenes que están representadas en escala de grises, lo que implica que cada píxel tiene un valor de intensidad que varía entre 0 y 255. Cada imagen en el conjunto MNIST es una cuadrícula de 28 x 28 píxeles."
      ],
      "metadata": {
        "id": "9XCFjjIyZYwr"
      }
    },
    {
      "cell_type": "markdown",
      "source": [
        "#3. Preparación de datos"
      ],
      "metadata": {
        "id": "otcP_pWyPpZl"
      }
    },
    {
      "cell_type": "code",
      "source": [
        "# Convertir las etiquetas a tipo entero\n",
        "X = mnist.data\n",
        "y = mnist.target.astype(int)\n",
        "\n",
        "# Normalizar los datos\n",
        "X = X / 255\n",
        "\n",
        "# Convertir las etiquetas enteras en un formato de vectores binarios (one-hot encoding). En este caso, num_classes=10 porque hay 10 posibles clases (dígitos del 0 al 9).\n",
        "# Por ejemplo, si una etiqueta es 3, se convierte en el vector [0, 0, 0, 1, 0, 0, 0, 0, 0, 0]\n",
        "y = to_categorical(y, num_classes=10)"
      ],
      "metadata": {
        "id": "ghJleLbBPvgf"
      },
      "execution_count": 4,
      "outputs": []
    },
    {
      "cell_type": "markdown",
      "source": [
        "La normalización ayuda a mejorar la convergencia del modelo y a estabilizar el entrenamiento. Los valores de píxeles están en un rango fijo (0 a 255), por lo que al dividir por 255, se escala a un rango más pequeño y manejable (0 a 1). Esto es especialmente útil para redes neuronales, que tienden a funcionar mejor cuando las entradas están normalizadas.\n",
        "\n",
        "Por otro lado, la conversión de las etiquetas es importante, ya que las redes neuronales requieren un formato de salida de probabilidad para cada clase. En el caso de la clasificación múltiple, el modelo genera una probabilidad para cada clase, y el one-hot encoding permite que estas probabilidades se comparen directamente con las etiquetas."
      ],
      "metadata": {
        "id": "w5ahIOSNacdD"
      }
    },
    {
      "cell_type": "markdown",
      "source": [
        "#4. Dividir los datos en conjunto de entrenamiento y conjunto de prueba"
      ],
      "metadata": {
        "id": "xX1aBcFJQWKS"
      }
    },
    {
      "cell_type": "code",
      "execution_count": 5,
      "metadata": {
        "id": "xwfAp5ZKG6nd"
      },
      "outputs": [],
      "source": [
        "# Dividir el conjunto de datos en entrenamiento y prueba\n",
        "X_train, X_test, y_train, y_test = train_test_split(X, y, test_size=0.1, random_state=42)"
      ]
    },
    {
      "cell_type": "markdown",
      "source": [
        "#5. Reformatear los Datos para la CNN"
      ],
      "metadata": {
        "id": "y7PAyofjIZrg"
      }
    },
    {
      "cell_type": "code",
      "source": [
        "X_train = X_train.reshape(-1, 28, 28, 1)\n",
        "X_test = X_test.reshape(-1, 28, 28, 1)"
      ],
      "metadata": {
        "id": "oDEo_v7LIhJj"
      },
      "execution_count": 6,
      "outputs": []
    },
    {
      "cell_type": "markdown",
      "source": [
        "En el conjunto de datos MNIST, cada imagen es una matriz plana (array) de tamaño 784 (28 x 28). Inicialmente, X_train y X_test tienen una forma de (num_samples, 784), donde num_samples es el número de muestras (imagenes) en el conjunto de entrenamiento o prueba.\n",
        "\n",
        "El reshape de los datos cambia la forma de los datos de entrada de (num_samples, 784) a (numsamples,28,28,1), ya que la forma original aplana las imágenes y pierde la estructura bidimensional de los píxeles, que es crucial para la operación de convolución.\n",
        "\n",
        "**-1**: El menos 1 indica a la función que calcule automáticamente el tamaño de esa dimensión, y representa el número de muestras (imagenes).\n",
        "**28, 28**: Las dimensiones espaciales de las imágenes (28 píxeles de alto y 28 píxeles de ancho).\n",
        "\n",
        "**1**: El número de canales de color. En este caso, es 1 porque las imágenes MNIST son en escala de grises (un solo canal). Para imágenes RGB, este valor sería 3.\n"
      ],
      "metadata": {
        "id": "tG52nyydGtCW"
      }
    },
    {
      "cell_type": "markdown",
      "source": [
        "#6. Definir el Modelo de la Red Neuronal Convolucional"
      ],
      "metadata": {
        "id": "HPd1MUpdI3Fe"
      }
    },
    {
      "cell_type": "code",
      "source": [
        "model = Sequential([\n",
        "    Conv2D(32, kernel_size=(3, 3), activation='relu', input_shape=(28, 28, 1)),\n",
        "    MaxPooling2D(pool_size=(2, 2)),\n",
        "    Conv2D(64, kernel_size=(3, 3), activation='relu'),\n",
        "    MaxPooling2D(pool_size=(2, 2)),\n",
        "    Flatten(),\n",
        "    Dense(128, activation='relu'),\n",
        "    Dense(10, activation='softmax')\n",
        "])\n",
        "\n",
        "# Compilar el modelo\n",
        "model.compile(optimizer='adam', loss='categorical_crossentropy', metrics=['accuracy'])"
      ],
      "metadata": {
        "id": "Xwh0SfgyI5NB"
      },
      "execution_count": 7,
      "outputs": []
    },
    {
      "cell_type": "markdown",
      "source": [
        "**Utilizamos el modelo secuencial**, un tipo de modelo de Keras donde las capas se apilan secuencialmente, de modo que cada capa tiene una única entrada y una única salida.\n",
        "\n",
        "**CAPAS**:\n",
        "\n",
        "**Primera capa convolucional (Conv2D)**: Esta capa aplica filtros de convolución sobre las imágenes de entrada para extraer características básicas. Utiliza 32 filtros de tamaño 3x3 y la función de activación ReLU, la cual introduce no linealidad en el modelo, permitiéndole aprender representaciones más complejas.\n",
        "\n",
        "**Primera Capa de Agrupamiento (MacPooling2D)**: Esta capa aplica una operación de agrupamiento máximo con una ventana de 2x2. El agrupamiento máximo reduce la dimensión espacial de la imagen (de 28x28 a 14x14) mientras conserva las características más importantes. Esto ayuda a reducir la complejidad computacional y a evitar el sobreajuste al disminuir el tamaño de la representación intermedia.\n",
        "\n",
        "**Segunda capa convolucional (Conv2D)**: Esta capa realiza una segunda convolución con 64 filtros de tamaño 3x3. Aumentar el número de filtros permite al modelo extraer características más complejas y abstractas de las imágenes.\n",
        "\n",
        "**Segunda Capa de Agrupamiento (MacPooling2D)**: Realiza un agrupamiento máximo adicional para seguir reduciendo las dimensiones espaciales y mantener las características más relevantes.\n",
        "\n",
        "**Capa flatten**: Aplana las salidas del bloque de convolución y agrupamiento en un vector unidimensional antes de pasar a las capas densas, ya que estas esperan vectores unidimensionales.\n",
        "\n",
        "**Primera Capa Densa (Dense)**: Esta capa completamente conectada con 128 neuronas. Permite que el modelo aprenda combinaciones no lineales de las características extraídas por las capas convolucionales.\n",
        "\n",
        "**Segunda Capa Densa (Dense)**: Capa de salida con 10 neuronas, una por cada clase, que produce las probabilidades de las 10 clases (dígitos del 0 al 9). La función de activación softmax convierte las salidas en probabilidades que suman 1.\n",
        "\n",
        "**COMPILACIÓN**:\n",
        "\n",
        "**Optimizador adam**: Ajusta los pesos del modelo durante el entrenamiento para minimizar la función de pérdida.\n",
        "\n",
        "**Función de pérdida 'categorical_crossentropy'**: Utiliza la entropía cruzada categórica. Es adecuada para problemas de clasificación multiclase, donde las etiquetas están en formato one-hot encoding.\n",
        "\n",
        "**Métrica 'accuracy'**: Mide el porcentaje de predicciones correctas entre las predicciones realizadas y las etiquetas verdaderas.\n",
        "\n"
      ],
      "metadata": {
        "id": "CmfZXmusbhVl"
      }
    },
    {
      "cell_type": "markdown",
      "source": [
        "#7. Entrenar el modelo"
      ],
      "metadata": {
        "id": "gI47ppp2JECC"
      }
    },
    {
      "cell_type": "code",
      "source": [
        "model.fit(X_train, y_train, epochs=8, batch_size=128, validation_split=0.1)"
      ],
      "metadata": {
        "colab": {
          "base_uri": "https://localhost:8080/"
        },
        "id": "r9Lt4CKfJKI-",
        "outputId": "b1903e28-50f9-40b9-c8b2-f458a6b43c72"
      },
      "execution_count": 9,
      "outputs": [
        {
          "output_type": "stream",
          "name": "stdout",
          "text": [
            "Epoch 1/8\n",
            "443/443 [==============================] - 47s 107ms/step - loss: 0.0077 - accuracy: 0.9976 - val_loss: 0.0360 - val_accuracy: 0.9908\n",
            "Epoch 2/8\n",
            "443/443 [==============================] - 54s 122ms/step - loss: 0.0059 - accuracy: 0.9982 - val_loss: 0.0367 - val_accuracy: 0.9914\n",
            "Epoch 3/8\n",
            "443/443 [==============================] - 53s 120ms/step - loss: 0.0062 - accuracy: 0.9980 - val_loss: 0.0329 - val_accuracy: 0.9927\n",
            "Epoch 4/8\n",
            "443/443 [==============================] - 61s 137ms/step - loss: 0.0053 - accuracy: 0.9982 - val_loss: 0.0337 - val_accuracy: 0.9914\n",
            "Epoch 5/8\n",
            "443/443 [==============================] - 47s 106ms/step - loss: 0.0036 - accuracy: 0.9988 - val_loss: 0.0410 - val_accuracy: 0.9921\n",
            "Epoch 6/8\n",
            "443/443 [==============================] - 55s 124ms/step - loss: 0.0046 - accuracy: 0.9983 - val_loss: 0.0407 - val_accuracy: 0.9911\n",
            "Epoch 7/8\n",
            "443/443 [==============================] - 47s 105ms/step - loss: 0.0059 - accuracy: 0.9980 - val_loss: 0.0333 - val_accuracy: 0.9921\n",
            "Epoch 8/8\n",
            "443/443 [==============================] - 46s 103ms/step - loss: 0.0022 - accuracy: 0.9993 - val_loss: 0.0323 - val_accuracy: 0.9929\n"
          ]
        },
        {
          "output_type": "execute_result",
          "data": {
            "text/plain": [
              "<keras.src.callbacks.History at 0x7cbff4c755d0>"
            ]
          },
          "metadata": {},
          "execution_count": 9
        }
      ]
    },
    {
      "cell_type": "markdown",
      "source": [
        "Se observa que a partir del octavo Epoch (iteración completa a través del conjunto de datos de entrenamiento), la precisión ya no aumenta, por lo que vamos a configurar el entrenamiento para que solo realice 8 Epochs. Muchas iteraciones pueden llevar a problemas de sobreajuste."
      ],
      "metadata": {
        "id": "_U7nGy0vgktq"
      }
    },
    {
      "cell_type": "markdown",
      "source": [
        "#8. Evaluar el Modelo"
      ],
      "metadata": {
        "id": "9o0t_g-PKqvt"
      }
    },
    {
      "cell_type": "code",
      "source": [
        "loss, accuracy = model.evaluate(X_test, y_test)\n",
        "print(f'Loss: {loss}, Accuracy: {accuracy}')"
      ],
      "metadata": {
        "colab": {
          "base_uri": "https://localhost:8080/"
        },
        "id": "VEaF3w37K5QP",
        "outputId": "c44a08c6-ecf7-4641-cfd9-2958d6e81130"
      },
      "execution_count": 10,
      "outputs": [
        {
          "output_type": "stream",
          "name": "stdout",
          "text": [
            "219/219 [==============================] - 2s 10ms/step - loss: 0.0464 - accuracy: 0.9900\n",
            "Loss: 0.046425092965364456, Accuracy: 0.9900000095367432\n"
          ]
        }
      ]
    },
    {
      "cell_type": "markdown",
      "source": [
        "La pérdida mide la diferencia entre las predicciones del modelo y las etiquetas verdaderas. Un valor bajo como 0.046 sugiere que el modelo está haciendo predicciones muy cercanas a las verdaderas etiquetas.\n",
        "\n",
        "La precisión indica que el modelo clasifica correctamente el 99.00% de las imágenes en el conjunto de prueba. Es una medida de la proporción de predicciones correctas en relación con el total de predicciones realizadas."
      ],
      "metadata": {
        "id": "kc9lEE7FhgaU"
      }
    },
    {
      "cell_type": "markdown",
      "source": [
        "#9. Predicciones y Evaluación"
      ],
      "metadata": {
        "id": "PbhzHaVeLIga"
      }
    },
    {
      "cell_type": "code",
      "source": [
        "y_pred = model.predict(X_test)\n",
        "y_pred_classes = np.argmax(y_pred, axis=1)\n",
        "y_true = np.argmax(y_test, axis=1)\n",
        "\n",
        "# Calcular el F1-score\n",
        "f1 = f1_score(y_true, y_pred_classes, average=\"weighted\")\n",
        "print(f'F1-score: {f1}')\n",
        "\n",
        "# Mostrar un informe de clasificación detallado\n",
        "print(classification_report(y_true, y_pred_classes))"
      ],
      "metadata": {
        "colab": {
          "base_uri": "https://localhost:8080/"
        },
        "id": "VlGsitKwLP35",
        "outputId": "468d61cc-e193-4b66-b70e-d1c8a9b5a9e2"
      },
      "execution_count": 11,
      "outputs": [
        {
          "output_type": "stream",
          "name": "stdout",
          "text": [
            "219/219 [==============================] - 3s 13ms/step\n",
            "F1-score: 0.990003732314915\n",
            "              precision    recall  f1-score   support\n",
            "\n",
            "           0       1.00      0.99      1.00       683\n",
            "           1       1.00      1.00      1.00       800\n",
            "           2       0.99      0.99      0.99       674\n",
            "           3       0.99      0.99      0.99       760\n",
            "           4       0.99      0.99      0.99       611\n",
            "           5       0.98      0.99      0.99       658\n",
            "           6       1.00      0.99      0.99       677\n",
            "           7       0.99      0.99      0.99       724\n",
            "           8       0.98      0.99      0.99       693\n",
            "           9       0.98      0.99      0.99       720\n",
            "\n",
            "    accuracy                           0.99      7000\n",
            "   macro avg       0.99      0.99      0.99      7000\n",
            "weighted avg       0.99      0.99      0.99      7000\n",
            "\n"
          ]
        }
      ]
    },
    {
      "cell_type": "markdown",
      "source": [
        "\n",
        "El modelo de clasificación tiene un F1-score general de 0.9900, indicando un equilibrio excelente entre precisión y recall. En el informe de clasificación, todas las clases (dígitos del 0 al 9) muestran altos valores de precisión, recall y F1-score, la mayoría cercanos a 1.00. La precisión global es del 99%, y el rendimiento es consistente en todas las clases, con una leve variación en las clases menos representadas. Esto sugiere que el modelo clasifica con gran precisión y confiabilidad todos los dígitos en el conjunto de datos MNIST."
      ],
      "metadata": {
        "id": "1AMWAB8kjbFb"
      }
    },
    {
      "cell_type": "markdown",
      "source": [
        "#10. Visualizar Errores"
      ],
      "metadata": {
        "id": "gei_l9gRLb31"
      }
    },
    {
      "cell_type": "code",
      "source": [
        "# Encontrar índices de errores\n",
        "index_errors = [index for index, (true, pred) in enumerate(zip(y_true, y_pred_classes)) if true != pred]\n",
        "\n",
        "plt.figure(figsize=(20, 4))\n",
        "\n",
        "for i, img_index in zip(range(1, 9), index_errors[:8]):\n",
        "    plt.subplot(1, 8, i)\n",
        "    plt.imshow(X_test[img_index].reshape(28, 28), cmap=plt.cm.gray)\n",
        "    plt.title(f'Orig: {y_true[img_index]}, Pred: {y_pred_classes[img_index]}')\n",
        "plt.show()"
      ],
      "metadata": {
        "colab": {
          "base_uri": "https://localhost:8080/",
          "height": 184
        },
        "id": "JV62_EzILdZL",
        "outputId": "afb469fa-e102-4908-a7da-6997971a4ee5"
      },
      "execution_count": 12,
      "outputs": [
        {
          "output_type": "display_data",
          "data": {
            "text/plain": [
              "<Figure size 2000x400 with 8 Axes>"
            ],
            "image/png": "[encoded data removed]"
          },
          "metadata": {}
        }
      ]
    },
    {
      "cell_type": "markdown",
      "source": [
        "Al visulizar algunas de las imagenes que nuestro modelo no ha clasificado con éxito, podemos percatarnos de que son en su mayoría imágenes que no tienen clara interpretación. Por ejemplo, en la primera imagen podemos observar que el modelo predice un 5 cuando en realidad es un 3, pero la predicción no está lejos de la realidad, ya que estamos ante un 3 con una forma muy similar a un 5."
      ],
      "metadata": {
        "id": "XQMfen0UjkFY"
      }
    },
    {
      "cell_type": "markdown",
      "source": [
        "#Exportar notebook en formato HTML"
      ],
      "metadata": {
        "id": "MZzNBiwtkx_D"
      }
    },
    {
      "cell_type": "code",
      "source": [
        "from google.colab import files\n",
        "import nbformat\n",
        "from nbconvert import HTMLExporter\n",
        "\n",
        "# Cargar el archivo del notebook\n",
        "notebook_filename = '/content/Serie_temporal_demanda_electrica.ipynb'\n",
        "with open(notebook_filename) as f:\n",
        "    notebook_content = nbformat.read(f, as_version=4)\n",
        "\n",
        "# Exportar a HTML\n",
        "html_exporter = HTMLExporter()\n",
        "(body, resources) = html_exporter.from_notebook_node(notebook_content)\n",
        "\n",
        "# Guardar el archivo HTML\n",
        "with open('notebook_exportado.html', 'w') as f:\n",
        "    f.write(body)\n",
        "\n",
        "# Descargar el archivo HTML\n",
        "files.download('notebook_exportado.html')"
      ],
      "metadata": {
        "id": "PRp7W707kzDd"
      },
      "execution_count": null,
      "outputs": []
    }
  ]
}